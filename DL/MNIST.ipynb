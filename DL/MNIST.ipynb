{
  "nbformat": 4,
  "nbformat_minor": 0,
  "metadata": {
    "colab": {
      "name": "MNIST.ipynb",
      "version": "0.3.2",
      "provenance": []
    },
    "kernelspec": {
      "name": "python3",
      "display_name": "Python 3"
    },
    "accelerator": "GPU"
  },
  "cells": [
    {
      "metadata": {
        "id": "LU_C8QdXXLoP",
        "colab_type": "text"
      },
      "cell_type": "markdown",
      "source": [
        "**Import MNIST data using TensorFlow**"
      ]
    },
    {
      "metadata": {
        "id": "jBSTGYD6Wfno",
        "colab_type": "code",
        "colab": {}
      },
      "cell_type": "code",
      "source": [
        "import tensorflow as tf\n",
        "from tensorflow.examples.tutorials.mnist import input_data"
      ],
      "execution_count": 0,
      "outputs": []
    },
    {
      "metadata": {
        "id": "tPAsBGGuWrx4",
        "colab_type": "code",
        "colab": {}
      },
      "cell_type": "code",
      "source": [
        "mnist = input_data.read_data_sets(\"MNIST_data/\", one_hot=True)"
      ],
      "execution_count": 0,
      "outputs": []
    },
    {
      "metadata": {
        "id": "a473K1mQWz29",
        "colab_type": "code",
        "colab": {
          "base_uri": "https://localhost:8080/",
          "height": 34
        },
        "outputId": "89652ae1-e6a2-470e-da4c-dd447ac6f67c"
      },
      "cell_type": "code",
      "source": [
        "type(mnist.train.images)"
      ],
      "execution_count": 5,
      "outputs": [
        {
          "output_type": "execute_result",
          "data": {
            "text/plain": [
              "numpy.ndarray"
            ]
          },
          "metadata": {
            "tags": []
          },
          "execution_count": 5
        }
      ]
    },
    {
      "metadata": {
        "id": "zZ3fejhoYDgp",
        "colab_type": "text"
      },
      "cell_type": "markdown",
      "source": [
        "**Number of images for training, testing and validation**"
      ]
    },
    {
      "metadata": {
        "id": "D_ixIWhDX_05",
        "colab_type": "code",
        "colab": {
          "base_uri": "https://localhost:8080/",
          "height": 34
        },
        "outputId": "4497fbb9-4fde-4101-ef50-afe70be2a1c9"
      },
      "cell_type": "code",
      "source": [
        "mnist.train.num_examples"
      ],
      "execution_count": 10,
      "outputs": [
        {
          "output_type": "execute_result",
          "data": {
            "text/plain": [
              "55000"
            ]
          },
          "metadata": {
            "tags": []
          },
          "execution_count": 10
        }
      ]
    },
    {
      "metadata": {
        "id": "Zq5mSfdsYRDU",
        "colab_type": "code",
        "colab": {
          "base_uri": "https://localhost:8080/",
          "height": 34
        },
        "outputId": "b29b7191-2424-47ea-ad67-3d6cffac635f"
      },
      "cell_type": "code",
      "source": [
        "mnist.test.num_examples"
      ],
      "execution_count": 11,
      "outputs": [
        {
          "output_type": "execute_result",
          "data": {
            "text/plain": [
              "10000"
            ]
          },
          "metadata": {
            "tags": []
          },
          "execution_count": 11
        }
      ]
    },
    {
      "metadata": {
        "id": "slfPbp9DYUrk",
        "colab_type": "code",
        "colab": {
          "base_uri": "https://localhost:8080/",
          "height": 34
        },
        "outputId": "2c189153-7d8f-447b-995f-4710384ca8cc"
      },
      "cell_type": "code",
      "source": [
        "mnist.validation.num_examples\n"
      ],
      "execution_count": 12,
      "outputs": [
        {
          "output_type": "execute_result",
          "data": {
            "text/plain": [
              "5000"
            ]
          },
          "metadata": {
            "tags": []
          },
          "execution_count": 12
        }
      ]
    },
    {
      "metadata": {
        "id": "ENq8nK-7YrQN",
        "colab_type": "text"
      },
      "cell_type": "markdown",
      "source": [
        "**Visualizing the data**"
      ]
    },
    {
      "metadata": {
        "id": "oh5zaKoFYf1h",
        "colab_type": "code",
        "colab": {}
      },
      "cell_type": "code",
      "source": [
        "import matplotlib.pyplot as plt\n",
        "%matplotlib inline"
      ],
      "execution_count": 0,
      "outputs": []
    },
    {
      "metadata": {
        "id": "g-sXmOLcYzsP",
        "colab_type": "code",
        "colab": {
          "base_uri": "https://localhost:8080/",
          "height": 282
        },
        "outputId": "d4226299-4434-4485-80c9-0d6fa3ad243e"
      },
      "cell_type": "code",
      "source": [
        "plt.imshow(mnist.train.images[1].reshape(28,28), cmap='gist_gray')"
      ],
      "execution_count": 24,
      "outputs": [
        {
          "output_type": "execute_result",
          "data": {
            "text/plain": [
              "<matplotlib.image.AxesImage at 0x7f5310c68fd0>"
            ]
          },
          "metadata": {
            "tags": []
          },
          "execution_count": 24
        },
        {
          "output_type": "display_data",
          "data": {
            "image/png": "[encoded data removed]",
            "text/plain": [
              "<matplotlib.figure.Figure at 0x7f5310c73908>"
            ]
          },
          "metadata": {
            "tags": []
          }
        }
      ]
    },
    {
      "metadata": {
        "id": "aYsUN104aYmh",
        "colab_type": "text"
      },
      "cell_type": "markdown",
      "source": [
        "**Maximum and Minimum value of pixels in the image**"
      ]
    },
    {
      "metadata": {
        "id": "-O22z4JqZyTd",
        "colab_type": "code",
        "colab": {
          "base_uri": "https://localhost:8080/",
          "height": 34
        },
        "outputId": "3bde55e1-8e3f-42d5-ecb9-51e75e7b577f"
      },
      "cell_type": "code",
      "source": [
        "mnist.train.images[1].max()"
      ],
      "execution_count": 28,
      "outputs": [
        {
          "output_type": "execute_result",
          "data": {
            "text/plain": [
              "1.0"
            ]
          },
          "metadata": {
            "tags": []
          },
          "execution_count": 28
        }
      ]
    },
    {
      "metadata": {
        "id": "ziGEt3l-aD9h",
        "colab_type": "code",
        "colab": {
          "base_uri": "https://localhost:8080/",
          "height": 34
        },
        "outputId": "8a294c48-ffa0-42e1-bda0-43d696600208"
      },
      "cell_type": "code",
      "source": [
        "mnist.train.images[1].min()"
      ],
      "execution_count": 29,
      "outputs": [
        {
          "output_type": "execute_result",
          "data": {
            "text/plain": [
              "0.0"
            ]
          },
          "metadata": {
            "tags": []
          },
          "execution_count": 29
        }
      ]
    },
    {
      "metadata": {
        "id": "xkrMzaYwahiW",
        "colab_type": "text"
      },
      "cell_type": "markdown",
      "source": [
        "**Create the model**"
      ]
    },
    {
      "metadata": {
        "id": "iikvMT2Fae38",
        "colab_type": "code",
        "colab": {}
      },
      "cell_type": "code",
      "source": [
        "x = tf.placeholder(tf.float32, shape=[None,784])"
      ],
      "execution_count": 0,
      "outputs": []
    },
    {
      "metadata": {
        "id": "NgUTlIFZa8jC",
        "colab_type": "code",
        "colab": {}
      },
      "cell_type": "code",
      "source": [
        "W = tf.Variable(tf.zeros([784,10]))"
      ],
      "execution_count": 0,
      "outputs": []
    },
    {
      "metadata": {
        "id": "oeYk5Cn4bDrg",
        "colab_type": "code",
        "colab": {}
      },
      "cell_type": "code",
      "source": [
        "b = tf.Variable(tf.zeros([10]))"
      ],
      "execution_count": 0,
      "outputs": []
    },
    {
      "metadata": {
        "id": "gFKAx9LObQIZ",
        "colab_type": "code",
        "colab": {}
      },
      "cell_type": "code",
      "source": [
        "# create the graph\n",
        "y = tf.matmul(x,W) + b"
      ],
      "execution_count": 0,
      "outputs": []
    },
    {
      "metadata": {
        "id": "0MQRQbIPbact",
        "colab_type": "text"
      },
      "cell_type": "markdown",
      "source": [
        "Loss and Optimizer"
      ]
    },
    {
      "metadata": {
        "id": "O4htdgx2bYGx",
        "colab_type": "code",
        "colab": {}
      },
      "cell_type": "code",
      "source": [
        "y_true = tf.placeholder(tf.float32, [None,10])"
      ],
      "execution_count": 0,
      "outputs": []
    },
    {
      "metadata": {
        "id": "WwgjFlL2bhmf",
        "colab_type": "code",
        "colab": {}
      },
      "cell_type": "code",
      "source": [
        "cross_entropy = tf.reduce_mean(tf.nn.softmax_cross_entropy_with_logits(labels=y_true, logits=y))"
      ],
      "execution_count": 0,
      "outputs": []
    },
    {
      "metadata": {
        "id": "qExHnRYKbwbp",
        "colab_type": "code",
        "colab": {}
      },
      "cell_type": "code",
      "source": [
        "optimizer = tf.train.GradientDescentOptimizer(learning_rate=0.5)"
      ],
      "execution_count": 0,
      "outputs": []
    },
    {
      "metadata": {
        "id": "p-xi6y7mcA_x",
        "colab_type": "code",
        "colab": {}
      },
      "cell_type": "code",
      "source": [
        "train = optimizer.minimize(cross_entropy)"
      ],
      "execution_count": 0,
      "outputs": []
    },
    {
      "metadata": {
        "id": "HNHER-vNcKer",
        "colab_type": "text"
      },
      "cell_type": "markdown",
      "source": [
        "**Create the session**"
      ]
    },
    {
      "metadata": {
        "id": "IOjSAhzZcI1E",
        "colab_type": "code",
        "colab": {}
      },
      "cell_type": "code",
      "source": [
        "init = tf.global_variables_initializer()"
      ],
      "execution_count": 0,
      "outputs": []
    },
    {
      "metadata": {
        "id": "8vXPx5y6cRpF",
        "colab_type": "code",
        "colab": {}
      },
      "cell_type": "code",
      "source": [
        "sess = tf.Session()\n",
        "sess.run(init)\n",
        "  \n",
        "# Train the model for 1000 steps on the training set using built in batch feeder from mnist\n",
        "for step in range(1000):\n",
        "  batch_x, batch_y = mnist.train.next_batch(100)\n",
        "  sess.run(train,feed_dict={x:batch_x, y_true:batch_y})"
      ],
      "execution_count": 0,
      "outputs": []
    },
    {
      "metadata": {
        "id": "slw3Fi-bd4N9",
        "colab_type": "text"
      },
      "cell_type": "markdown",
      "source": [
        "**Evaluate the trained model on test data**"
      ]
    },
    {
      "metadata": {
        "id": "PLDBXBdsdpJ8",
        "colab_type": "code",
        "colab": {
          "base_uri": "https://localhost:8080/",
          "height": 34
        },
        "outputId": "954c130f-ca17-497b-8dcb-328ef16ed494"
      },
      "cell_type": "code",
      "source": [
        "matches = tf.equal(tf.argmax(y,1), tf.argmax(y_true,1))\n",
        "\n",
        "acc = tf.reduce_mean(tf.cast(matches, tf.float32))\n",
        "\n",
        "print(sess.run(acc,feed_dict={x:mnist.test.images, y_true:mnist.test.labels}))"
      ],
      "execution_count": 58,
      "outputs": [
        {
          "output_type": "stream",
          "text": [
            "0.916\n"
          ],
          "name": "stdout"
        }
      ]
    },
    {
      "metadata": {
        "id": "OUS-URUteyCQ",
        "colab_type": "code",
        "colab": {}
      },
      "cell_type": "code",
      "source": [
        "sess.close()"
      ],
      "execution_count": 0,
      "outputs": []
    },
    {
      "metadata": {
        "id": "Pv3J-MQ3f1ON",
        "colab_type": "code",
        "colab": {}
      },
      "cell_type": "code",
      "source": [
        ""
      ],
      "execution_count": 0,
      "outputs": []
    }
  ]
}